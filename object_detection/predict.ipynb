{
 "cells": [
  {
   "cell_type": "code",
   "execution_count": 1,
   "metadata": {},
   "outputs": [],
   "source": [
    "from ultralytics import YOLO\n",
    "import matplotlib.pyplot as plt\n",
    "import matplotlib.patches as patches\n",
    "import numpy as np\n",
    "from PIL import Image\n",
    "import cv2\n",
    "import io"
   ]
  },
  {
   "cell_type": "code",
   "execution_count": 2,
   "metadata": {},
   "outputs": [],
   "source": [
    "tensorrt_model = YOLO(\"/mnt/data1/model_1122/image_detection/best.engine\", task=\"detect\")"
   ]
  },
  {
   "cell_type": "code",
   "execution_count": 15,
   "metadata": {},
   "outputs": [],
   "source": [
    "def process_predict(results):\n",
    "    gender_set = {\"雄性\", \"雌性\"}\n",
    "    age_set = {'成体', '亚成体', \"幼体\"}\n",
    "    detect_class = []\n",
    "    agg_detect_class = []\n",
    "    classs_id_2_num = {}\n",
    "    class_id_2_detail_dict = {}\n",
    "    for result in results:\n",
    "        # 获取边界框、置信度和类别\n",
    "        boxes = result.boxes\n",
    "        # 遍历每个检测框\n",
    "        for box in boxes:\n",
    "            # 获取边界框坐标 (x1, y1, x2, y2)\n",
    "            x1, y1, x2, y2 = box.xyxy[0].tolist()  # xyxy格式\n",
    "            # 获取置信度分数\n",
    "            confidence = box.conf[0].item()\n",
    "            # 获取预测类别的索引\n",
    "            class_id = int(box.cls[0].item())\n",
    "            if class_id not in classs_id_2_num:\n",
    "                classs_id_2_num[class_id] = 0\n",
    "            classs_id_2_num[class_id] += 1\n",
    "            # 获取类别名称（如果模型中有类别名称映射）\n",
    "            class_name = result.names[class_id]\n",
    "            \n",
    "            class_name_copy = class_name\n",
    "            gender = \"无法区分\"\n",
    "            for gd in gender_set:\n",
    "                if gd in class_name_copy:\n",
    "                    class_name_copy = class_name_copy.replace(gd, \"\")\n",
    "                    gender = gd\n",
    "            age = \"无法区分\"\n",
    "            for ag in age_set:\n",
    "                if ag in class_name_copy:\n",
    "                    class_name_copy = class_name_copy.replace(ag, \"\")\n",
    "                    age = ag\n",
    "            class_id_2_detail_dict[class_id] = [class_name_copy, gender, age]\n",
    "            detect_class.append((class_name, (x1, y1, x2, y2), confidence, [class_name_copy, gender, age]))\n",
    "            print(f\"检测到 {class_name} - 置信度: {confidence:.2f}\")\n",
    "            print(f\"位置: x1={x1:.1f}, y1={y1:.1f}, x2={x2:.1f}, y2={y2:.1f}\")\n",
    "    for k, v in classs_id_2_num.items():\n",
    "        agg_detect_class.append((class_id_2_detail_dict[k], v))\n",
    "\n",
    "    return {'results': detect_class, 'agg_results': agg_detect_class}\n",
    "    "
   ]
  },
  {
   "cell_type": "code",
   "execution_count": 21,
   "metadata": {},
   "outputs": [
    {
     "name": "stdout",
     "output_type": "stream",
     "text": [
      "\n",
      "0: 640x640 3 水牛成体s, 36.9ms\n",
      "Speed: 3.0ms preprocess, 36.9ms inference, 1.4ms postprocess per image at shape (1, 3, 640, 640)\n",
      "检测到 水牛成体 - 置信度: 0.48\n",
      "位置: x1=856.2, y1=1525.2, x2=1443.3, y2=1829.2\n",
      "检测到 水牛成体 - 置信度: 0.32\n",
      "位置: x1=1465.1, y1=786.4, x2=2552.2, y2=1359.7\n",
      "检测到 水牛成体 - 置信度: 0.26\n",
      "位置: x1=329.0, y1=1062.1, x2=1189.2, y2=1402.5\n"
     ]
    },
    {
     "data": {
      "text/plain": [
       "{'results': [('水牛成体',\n",
       "   (856.1932983398438, 1525.155029296875, 1443.26904296875, 1829.16845703125),\n",
       "   0.4818171560764313,\n",
       "   ['水牛', '无法区分', '成体']),\n",
       "  ('水牛成体',\n",
       "   (1465.12353515625, 786.4356689453125, 2552.24169921875, 1359.7164306640625),\n",
       "   0.3194273114204407,\n",
       "   ['水牛', '无法区分', '成体']),\n",
       "  ('水牛成体',\n",
       "   (328.9973449707031, 1062.0830078125, 1189.159912109375, 1402.52880859375),\n",
       "   0.2574602961540222,\n",
       "   ['水牛', '无法区分', '成体'])],\n",
       " 'agg_results': [(['水牛', '无法区分', '成体'], 3)]}"
      ]
     },
     "execution_count": 21,
     "metadata": {},
     "output_type": "execute_result"
    }
   ],
   "source": [
    "image_path = \"/mnt/data1/model_1122/image_classifier/test/animal/YNNR008X-WD0014-20161208-03039.jpg\"\n",
    "with open(image_path, 'rb') as file:\n",
    "    image_content = file.read()\n",
    "image_path = Image.open(io.BytesIO(image_content))\n",
    "results = tensorrt_model.predict(image_path, conf=0.256)\n",
    "# 遍历每张图片的结果（如果只有一张图片，results[0]就是那张图片的结果）\n",
    "process_predict(results)"
   ]
  },
  {
   "cell_type": "code",
   "execution_count": null,
   "metadata": {},
   "outputs": [],
   "source": []
  },
  {
   "cell_type": "code",
   "execution_count": null,
   "metadata": {},
   "outputs": [],
   "source": []
  }
 ],
 "metadata": {
  "kernelspec": {
   "display_name": "torch2",
   "language": "python",
   "name": "python3"
  },
  "language_info": {
   "codemirror_mode": {
    "name": "ipython",
    "version": 3
   },
   "file_extension": ".py",
   "mimetype": "text/x-python",
   "name": "python",
   "nbconvert_exporter": "python",
   "pygments_lexer": "ipython3",
   "version": "3.10.15"
  }
 },
 "nbformat": 4,
 "nbformat_minor": 2
}
