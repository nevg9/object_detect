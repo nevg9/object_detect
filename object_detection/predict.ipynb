{
 "cells": [
  {
   "cell_type": "code",
   "execution_count": 8,
   "metadata": {},
   "outputs": [],
   "source": [
    "from ultralytics import YOLO\n",
    "import matplotlib.pyplot as plt\n",
    "import matplotlib.patches as patches\n",
    "import numpy as np\n",
    "from PIL import Image\n",
    "import cv2\n",
    "import io"
   ]
  },
  {
   "cell_type": "code",
   "execution_count": 9,
   "metadata": {},
   "outputs": [],
   "source": [
    "tensorrt_model = YOLO(\"/mnt/data1/model_1122/image_detection/best.engine\", task=\"detect\")"
   ]
  },
  {
   "cell_type": "code",
   "execution_count": null,
   "metadata": {},
   "outputs": [
    {
     "name": "stdout",
     "output_type": "stream",
     "text": [
      "\n",
      "image 1/1 /mnt/data1/model_1122/image_classifier/test/animal/SCNR015X-HY0037-20190806-00247.jpg: 640x640 1 花面狸成体, 36.9ms\n",
      "Speed: 2.6ms preprocess, 36.9ms inference, 1.4ms postprocess per image at shape (1, 3, 640, 640)\n",
      "检测到 花面狸成体 - 置信度: 0.86\n",
      "位置: x1=0.3, y1=1238.4, x2=1431.8, y2=2105.2\n"
     ]
    }
   ],
   "source": [
    "image_path = \"/mnt/data1/model_1122/image_classifier/test/animal/SCNR015X-HY0037-20190806-00247.jpg\"\n",
    "with open(image_path, 'rb') as file:\n",
    "    image_content = file.read()\n",
    "image_path = Image.open(io.BytesIO(image_content))\n",
    "results = tensorrt_model.predict(image_path, conf=0.4)\n",
    "# 遍历每张图片的结果（如果只有一张图片，results[0]就是那张图片的结果）\n",
    "for result in results:\n",
    "    # 获取边界框、置信度和类别\n",
    "    boxes = result.boxes\n",
    "    \n",
    "    # 遍历每个检测框\n",
    "    for box in boxes:\n",
    "        # 获取边界框坐标 (x1, y1, x2, y2)\n",
    "        x1, y1, x2, y2 = box.xyxy[0].tolist()  # xyxy格式\n",
    "        # 或者使用 xywh 格式（中心点坐标和宽高）\n",
    "        # x, y, w, h = box.xywh[0].tolist()\n",
    "        \n",
    "        # 获取置信度分数\n",
    "        confidence = box.conf[0].item()\n",
    "        \n",
    "        # 获取预测类别的索引\n",
    "        class_id = int(box.cls[0].item())\n",
    "        \n",
    "        # 获取类别名称（如果模型中有类别名称映射）\n",
    "        class_name = result.names[class_id]\n",
    "        \n",
    "        print(f\"检测到 {class_name} - 置信度: {confidence:.2f}\")\n",
    "        print(f\"位置: x1={x1:.1f}, y1={y1:.1f}, x2={x2:.1f}, y2={y2:.1f}\")\n",
    "\n",
    "        # # 如果你想在原图上绘制\n",
    "        # original_img = cv2.imread(\"image.jpg\")\n",
    "        # cv2.rectangle(original_img, \n",
    "        #              (int(x1), int(y1)), \n",
    "        #              (int(x2), int(y2)), \n",
    "        #              (0, 255, 0), 2)\n",
    "        # cv2.putText(original_img, \n",
    "        #            f\"{class_name} {confidence:.2f}\", \n",
    "        #            (int(x1), int(y1) - 10), \n",
    "        #            cv2.FONT_HERSHEY_SIMPLEX, \n",
    "        #            0.9, \n",
    "        #            (0, 255, 0), \n",
    "        #            2)\n",
    "        \n",
    "        # # 显示结果\n",
    "        # cv2.imshow(\"Result\", original_img)\n",
    "        # cv2.waitKey(0)\n",
    "        # cv2.destroyAllWindows()"
   ]
  },
  {
   "cell_type": "code",
   "execution_count": null,
   "metadata": {},
   "outputs": [],
   "source": []
  },
  {
   "cell_type": "code",
   "execution_count": null,
   "metadata": {},
   "outputs": [],
   "source": []
  }
 ],
 "metadata": {
  "kernelspec": {
   "display_name": "torch2",
   "language": "python",
   "name": "python3"
  },
  "language_info": {
   "codemirror_mode": {
    "name": "ipython",
    "version": 3
   },
   "file_extension": ".py",
   "mimetype": "text/x-python",
   "name": "python",
   "nbconvert_exporter": "python",
   "pygments_lexer": "ipython3",
   "version": "3.10.15"
  }
 },
 "nbformat": 4,
 "nbformat_minor": 2
}
