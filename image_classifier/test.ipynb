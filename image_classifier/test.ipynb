{
 "cells": [
  {
   "cell_type": "code",
   "execution_count": 1,
   "metadata": {},
   "outputs": [],
   "source": [
    "from skimage import io\n",
    "from ultralytics.data.utils import exif_size, IMG_FORMATS, FORMATS_HELP_MSG\n",
    "from pathlib import Path\n",
    "from tqdm import tqdm\n",
    "import cv2"
   ]
  },
  {
   "cell_type": "code",
   "execution_count": 6,
   "metadata": {},
   "outputs": [],
   "source": [
    "def detect_image_corrupt(img_file):\n",
    "    # try:\n",
    "    #     _ = io.imread(img_file)\n",
    "    # except Exception as e:\n",
    "    #     print(f\"{img_file} is corrupt, {e}\")\n",
    "    cv_img = cv2.imread(img_file)\n",
    "    print(f\"img_file:{img_file}\")\n",
    "    if cv_img is None:\n",
    "        print(f\"{img_file} is corrupt\")"
   ]
  },
  {
   "cell_type": "code",
   "execution_count": 14,
   "metadata": {},
   "outputs": [
    {
     "name": "stdout",
     "output_type": "stream",
     "text": [
      "img_file:/home/yuzhong/data1/image_classifier_data/train/human/SCNR015X-tc0006-20211212-00433.jpg\n"
     ]
    }
   ],
   "source": [
    "detect_image_corrupt(\"/home/yuzhong/data1/image_classifier_data/train/human/SCNR015X-tc0006-20211212-00433.jpg\")"
   ]
  },
  {
   "cell_type": "code",
   "execution_count": 3,
   "metadata": {},
   "outputs": [
    {
     "name": "stdout",
     "output_type": "stream",
     "text": [
      "total images: 1562451\n"
     ]
    }
   ],
   "source": [
    "image_files = []\n",
    "dir_path = \"/home/yuzhong/data1/image_classifier_data\"\n",
    "for ext in IMG_FORMATS:\n",
    "    image_files.extend(Path(dir_path).rglob(f'*.{ext}'))\n",
    "print(f\"total images: {len(image_files)}\")\n",
    "total_deleted = 0\n",
    "total_images = len(image_files)"
   ]
  },
  {
   "cell_type": "code",
   "execution_count": 4,
   "metadata": {},
   "outputs": [
    {
     "name": "stderr",
     "output_type": "stream",
     "text": [
      "detect image:   5%|▌         | 80775/1562451 [00:49<03:46, 6544.96 image/s]Premature end of JPEG file\n",
      "detect image:   5%|▌         | 81439/1562451 [00:49<03:54, 6309.67 image/s]"
     ]
    },
    {
     "name": "stdout",
     "output_type": "stream",
     "text": [
      "corrupted image : /home/yuzhong/data1/image_classifier_data/test/no_target/JXNR003X-JCZ004-20220319-01135.jpg\n"
     ]
    },
    {
     "name": "stderr",
     "output_type": "stream",
     "text": [
      "detect image:   6%|▌         | 96433/1562451 [01:01<08:06, 3012.13 image/s]Premature end of JPEG file\n",
      "detect image:   6%|▋         | 97664/1562451 [01:01<05:17, 4613.85 image/s]"
     ]
    },
    {
     "name": "stdout",
     "output_type": "stream",
     "text": [
      "corrupted image : /home/yuzhong/data1/image_classifier_data/test/no_target/JXNR003X-HH0003-20220622-00215.jpg\n"
     ]
    },
    {
     "name": "stderr",
     "output_type": "stream",
     "text": [
      "detect image:   7%|▋         | 111724/1562451 [01:13<13:29, 1791.05 image/s]Premature end of JPEG file\n",
      "detect image:   7%|▋         | 113143/1562451 [01:14<05:53, 4101.59 image/s]"
     ]
    },
    {
     "name": "stdout",
     "output_type": "stream",
     "text": [
      "corrupted image : /home/yuzhong/data1/image_classifier_data/test/no_target/JXNR003X-JCZ004-20220319-01127.jpg\n"
     ]
    },
    {
     "name": "stderr",
     "output_type": "stream",
     "text": [
      "detect image:   7%|▋         | 116073/1562451 [01:16<22:19, 1079.83 image/s]"
     ]
    },
    {
     "name": "stdout",
     "output_type": "stream",
     "text": [
      "corrupted image : /home/yuzhong/data1/image_classifier_data/test/no_target/HLNR037X-NL0046-20211111-00079.jpg\n"
     ]
    },
    {
     "name": "stderr",
     "output_type": "stream",
     "text": [
      "detect image:   8%|▊         | 121691/1562451 [01:20<03:56, 6089.65 image/s]Premature end of JPEG file\n"
     ]
    },
    {
     "name": "stdout",
     "output_type": "stream",
     "text": [
      "corrupted image : /home/yuzhong/data1/image_classifier_data/test/no_target/JXNR003X-JCZ004-20220319-01108.jpg\n"
     ]
    },
    {
     "name": "stderr",
     "output_type": "stream",
     "text": [
      "detect image:   8%|▊         | 122822/1562451 [01:21<12:18, 1948.30 image/s]Premature end of JPEG file\n"
     ]
    },
    {
     "name": "stdout",
     "output_type": "stream",
     "text": [
      "corrupted image : /home/yuzhong/data1/image_classifier_data/test/no_target/JXNR003X-HH0003-20220622-00024.jpg\n"
     ]
    },
    {
     "name": "stderr",
     "output_type": "stream",
     "text": [
      "detect image:   8%|▊         | 123200/1562451 [01:21<19:35, 1224.50 image/s]Premature end of JPEG file\n"
     ]
    },
    {
     "name": "stdout",
     "output_type": "stream",
     "text": [
      "corrupted image : /home/yuzhong/data1/image_classifier_data/test/no_target/JXNR003X-JCZ002-20220319-00236.jpg\n"
     ]
    },
    {
     "name": "stderr",
     "output_type": "stream",
     "text": [
      "detect image:   9%|▊         | 135674/1562451 [01:30<28:32, 833.12 image/s] Premature end of JPEG file\n",
      "detect image:   9%|▊         | 135913/1562451 [01:31<27:08, 875.88 image/s]"
     ]
    },
    {
     "name": "stdout",
     "output_type": "stream",
     "text": [
      "corrupted image : /home/yuzhong/data1/image_classifier_data/test/no_target/JXNR003X-JCZ004-20220319-01163.jpg\n"
     ]
    },
    {
     "name": "stderr",
     "output_type": "stream",
     "text": [
      "detect image:   9%|▊         | 136561/1562451 [01:32<29:21, 809.53 image/s] Premature end of JPEG file\n",
      "detect image:   9%|▉         | 136737/1562451 [01:32<23:39, 1004.24 image/s]Premature end of JPEG file\n",
      "detect image:   9%|▉         | 137093/1562451 [01:32<14:47, 1606.00 image/s]"
     ]
    },
    {
     "name": "stdout",
     "output_type": "stream",
     "text": [
      "corrupted image : /home/yuzhong/data1/image_classifier_data/test/no_target/JXNR003X-JCZ004-20220319-01120.jpg\n",
      "corrupted image : /home/yuzhong/data1/image_classifier_data/test/no_target/JXNR003X-JCZ004-20220319-01150.jpg\n"
     ]
    },
    {
     "name": "stderr",
     "output_type": "stream",
     "text": [
      "detect image:  10%|█         | 162954/1562451 [01:50<34:33, 674.87 image/s] Premature end of JPEG file\n",
      "detect image:  10%|█         | 163731/1562451 [01:50<10:26, 2232.86 image/s]"
     ]
    },
    {
     "name": "stdout",
     "output_type": "stream",
     "text": [
      "corrupted image : /home/yuzhong/data1/image_classifier_data/test/no_target/JXNR003X-HH0003-20220622-00013.jpg\n"
     ]
    },
    {
     "name": "stderr",
     "output_type": "stream",
     "text": [
      "detect image:  12%|█▏        | 180703/1562451 [02:02<06:47, 3393.35 image/s]Corrupt JPEG data: premature end of data segment\n",
      "detect image:  12%|█▏        | 182167/1562451 [02:02<04:56, 4652.51 image/s]Premature end of JPEG file\n"
     ]
    },
    {
     "name": "stdout",
     "output_type": "stream",
     "text": [
      "corrupted image : /home/yuzhong/data1/image_classifier_data/test/no_target/JXNR003X-DS0001-20220811-00315.jpg\n"
     ]
    },
    {
     "name": "stderr",
     "output_type": "stream",
     "text": [
      "detect image:  12%|█▏        | 183464/1562451 [02:03<04:16, 5378.37 image/s]"
     ]
    },
    {
     "name": "stdout",
     "output_type": "stream",
     "text": [
      "corrupted image : /home/yuzhong/data1/image_classifier_data/test/no_target/JXNR003X-JCZ004-20220319-01168.jpg\n"
     ]
    },
    {
     "name": "stderr",
     "output_type": "stream",
     "text": [
      "detect image:  12%|█▏        | 187982/1562451 [02:08<31:28, 727.76 image/s] Premature end of JPEG file\n",
      "detect image:  12%|█▏        | 188062/1562451 [02:08<36:28, 628.05 image/s]"
     ]
    },
    {
     "name": "stdout",
     "output_type": "stream",
     "text": [
      "corrupted image : /home/yuzhong/data1/image_classifier_data/test/no_target/JXNR003X-JCZ004-20220319-01132.jpg\n"
     ]
    },
    {
     "name": "stderr",
     "output_type": "stream",
     "text": [
      "detect image:  14%|█▍        | 221736/1562451 [02:25<22:45, 981.91 image/s] Premature end of JPEG file\n",
      "Premature end of JPEG file\n",
      "detect image:  14%|█▍        | 221858/1562451 [02:25<26:21, 847.58 image/s]"
     ]
    },
    {
     "name": "stdout",
     "output_type": "stream",
     "text": [
      "corrupted image : /home/yuzhong/data1/image_classifier_data/test/no_target/JXNR003X-JCZ004-20220319-01169.jpg\n",
      "corrupted image : /home/yuzhong/data1/image_classifier_data/test/no_target/JXNR003X-JCZ004-20220319-01159.jpg\n"
     ]
    },
    {
     "name": "stderr",
     "output_type": "stream",
     "text": [
      "detect image:  15%|█▍        | 227816/1562451 [02:29<14:14, 1561.66 image/s]Premature end of JPEG file\n"
     ]
    },
    {
     "name": "stdout",
     "output_type": "stream",
     "text": [
      "corrupted image : /home/yuzhong/data1/image_classifier_data/test/no_target/JXNR003X-JCZ004-20220319-01184.jpg\n"
     ]
    },
    {
     "name": "stderr",
     "output_type": "stream",
     "text": [
      "detect image:  15%|█▌        | 239104/1562451 [02:39<06:59, 3151.84 image/s]Premature end of JPEG file\n",
      "detect image:  15%|█▌        | 240289/1562451 [02:39<05:45, 3830.32 image/s]"
     ]
    },
    {
     "name": "stdout",
     "output_type": "stream",
     "text": [
      "corrupted image : /home/yuzhong/data1/image_classifier_data/test/no_target/HLNR037X-NL0041-20211116-00152.jpg\n"
     ]
    },
    {
     "name": "stderr",
     "output_type": "stream",
     "text": [
      "detect image:  16%|█▌        | 249911/1562451 [02:48<23:06, 946.66 image/s] Premature end of JPEG file\n",
      "detect image:  16%|█▌        | 250036/1562451 [02:48<23:20, 936.80 image/s]"
     ]
    },
    {
     "name": "stdout",
     "output_type": "stream",
     "text": [
      "corrupted image : /home/yuzhong/data1/image_classifier_data/test/no_target/JXNR003X-JCZ004-20220319-01111.jpg\n"
     ]
    },
    {
     "name": "stderr",
     "output_type": "stream",
     "text": [
      "detect image:  27%|██▋       | 419460/1562451 [04:41<34:09, 557.83 image/s] "
     ]
    }
   ],
   "source": [
    "for im_file in tqdm(image_files, total=len(image_files), desc='detect image', unit=' image'):\n",
    "    detect_image_corrupt(im_file)"
   ]
  },
  {
   "cell_type": "code",
   "execution_count": null,
   "metadata": {},
   "outputs": [],
   "source": []
  }
 ],
 "metadata": {
  "kernelspec": {
   "display_name": "torch2",
   "language": "python",
   "name": "python3"
  },
  "language_info": {
   "codemirror_mode": {
    "name": "ipython",
    "version": 3
   },
   "file_extension": ".py",
   "mimetype": "text/x-python",
   "name": "python",
   "nbconvert_exporter": "python",
   "pygments_lexer": "ipython3",
   "version": "3.10.15"
  }
 },
 "nbformat": 4,
 "nbformat_minor": 2
}
