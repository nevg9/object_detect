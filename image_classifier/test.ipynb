{
 "cells": [
  {
   "cell_type": "code",
   "execution_count": 1,
   "metadata": {},
   "outputs": [],
   "source": [
    "from pathlib import Path\n",
    "from ultralytics.utils import DATASETS_DIR\n",
    "from ultralytics.data import ClassificationDataset"
   ]
  },
  {
   "cell_type": "code",
   "execution_count": 2,
   "metadata": {},
   "outputs": [
    {
     "name": "stdout",
     "output_type": "stream",
     "text": [
      "/mnt/data2/image_classifier_data True /mnt/data1/code/object_detection/image_classifier/datasets /mnt/data2/image_classifier_data\n"
     ]
    }
   ],
   "source": [
    "dir_path = \"/mnt/data2/image_classifier_data\"\n",
    "dataset = Path(dir_path)\n",
    "print(dataset, dataset.is_dir(), DATASETS_DIR, DATASETS_DIR / dataset)"
   ]
  },
  {
   "cell_type": "code",
   "execution_count": 3,
   "metadata": {},
   "outputs": [],
   "source": [
    "data_dir = (dataset if dataset.is_dir() else (DATASETS_DIR / dataset)).resolve()"
   ]
  },
  {
   "cell_type": "code",
   "execution_count": 4,
   "metadata": {},
   "outputs": [],
   "source": [
    "train_set = data_dir / \"train\"\n",
    "val_set = (\n",
    "        data_dir / \"val\"\n",
    "        if (data_dir / \"val\").exists()\n",
    "        else data_dir / \"validation\"\n",
    "        if (data_dir / \"validation\").exists()\n",
    "        else None\n",
    "    ) \n",
    "test_set = data_dir / \"test\" if (data_dir / \"test\").exists() else None"
   ]
  },
  {
   "cell_type": "code",
   "execution_count": 5,
   "metadata": {},
   "outputs": [],
   "source": [
    "nc = len([x for x in (data_dir / \"train\").glob(\"*\") if x.is_dir()])  # number of classes\n",
    "names = [x.name for x in (data_dir / \"train\").iterdir() if x.is_dir()]  # class names list\n",
    "names = dict(enumerate(sorted(names)))"
   ]
  },
  {
   "cell_type": "code",
   "execution_count": 15,
   "metadata": {},
   "outputs": [],
   "source": [
    "from types import SimpleNamespace\n",
    "data = {\n",
    "    \"imgsz\": 224,\n",
    "    \"erasing\": 0.4,\n",
    "    \"auto_augment\": \"randaugment\",\n",
    "    \"hsv_h\": 0.015,\n",
    "    \"hsv_s\": 0.7,\n",
    "    \"hsv_v\": 0.4,\n",
    "    \"degrees\": 0.0,\n",
    "    \"translate\": 0.1,\n",
    "    \"scale\": 0.5,\n",
    "    \"shear\": 0.0,\n",
    "    \"perspective\": 0.0,\n",
    "    \"flipud\": 0.0,\n",
    "    \"fliplr\": 0.5,\n",
    "    \"bgr\": 0.0,\n",
    "    \"mosaic\": 1.0,\n",
    "    \"mixup\": 0.0,\n",
    "    \"copy_paste\": 0.0,\n",
    "    \"copy_paste_mode\": \"flip\",\n",
    "    \"crop_fraction\": 1.0,\n",
    "    \"fraction\": 1.0,\n",
    "    \"cache\": False\n",
    "}\n",
    "args = SimpleNamespace(**data)\n"
   ]
  },
  {
   "cell_type": "code",
   "execution_count": 16,
   "metadata": {},
   "outputs": [
    {
     "name": "stderr",
     "output_type": "stream",
     "text": [
      "\u001b[34m\u001b[1mtrain: \u001b[0mScanning /mnt/data2/image_classifier_data/train... 1311000 images, 0 corrupt: 100%|██████████| 1311000/1311000 [04:25<00:00, 4938.31it/s]\n"
     ]
    },
    {
     "name": "stdout",
     "output_type": "stream",
     "text": [
      "\u001b[34m\u001b[1mtrain: \u001b[0mNew cache created: /mnt/data2/image_classifier_data/train.cache\n"
     ]
    }
   ],
   "source": [
    "train_dataset = ClassificationDataset(train_set, args=args, augment=True, prefix=\"train\")"
   ]
  },
  {
   "cell_type": "code",
   "execution_count": 11,
   "metadata": {},
   "outputs": [
    {
     "ename": "AttributeError",
     "evalue": "'dict' object has no attribute 'fraction'",
     "output_type": "error",
     "traceback": [
      "\u001b[0;31m---------------------------------------------------------------------------\u001b[0m",
      "\u001b[0;31mAttributeError\u001b[0m                            Traceback (most recent call last)",
      "Cell \u001b[0;32mIn[11], line 1\u001b[0m\n\u001b[0;32m----> 1\u001b[0m \u001b[43margs\u001b[49m\u001b[38;5;241;43m.\u001b[39;49m\u001b[43mfraction\u001b[49m\n",
      "\u001b[0;31mAttributeError\u001b[0m: 'dict' object has no attribute 'fraction'"
     ]
    }
   ],
   "source": [
    "args.fraction"
   ]
  },
  {
   "cell_type": "code",
   "execution_count": null,
   "metadata": {},
   "outputs": [],
   "source": []
  }
 ],
 "metadata": {
  "kernelspec": {
   "display_name": "torch2",
   "language": "python",
   "name": "python3"
  },
  "language_info": {
   "codemirror_mode": {
    "name": "ipython",
    "version": 3
   },
   "file_extension": ".py",
   "mimetype": "text/x-python",
   "name": "python",
   "nbconvert_exporter": "python",
   "pygments_lexer": "ipython3",
   "version": "3.10.15"
  }
 },
 "nbformat": 4,
 "nbformat_minor": 2
}
