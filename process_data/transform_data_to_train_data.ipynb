{
 "cells": [
  {
   "cell_type": "markdown",
   "metadata": {},
   "source": [
    "# 网盘中下载数据"
   ]
  },
  {
   "cell_type": "markdown",
   "metadata": {},
   "source": [
    "下载的代码使用的脚本是copy_image_data_to_local.py"
   ]
  },
  {
   "cell_type": "markdown",
   "metadata": {},
   "source": [
    "# 数据转换成训练数据"
   ]
  },
  {
   "cell_type": "markdown",
   "metadata": {},
   "source": [
    "## 首先根据类别情况转换成正规的类别"
   ]
  },
  {
   "cell_type": "code",
   "execution_count": 1,
   "metadata": {},
   "outputs": [],
   "source": [
    "import csv\n",
    "import json\n",
    "\n",
    "\n",
    "def get_all_age_gender_set(file_name):\n",
    "    age_set = set()\n",
    "    gender_set = set()\n",
    "    with open(file_name, 'r') as f:\n",
    "        animal_action = json.load(f)\n",
    "    print(f'total image num: {len(animal_action)}')\n",
    "    for item in animal_action:\n",
    "        age_set.add(item['年龄'])\n",
    "        gender_set.add(item['性别'])\n",
    "    return age_set, gender_set\n",
    "\n",
    "\n",
    "def get_clean_species_statistic_info(file_name):\n",
    "    species_map_to_count = {}\n",
    "    with open(file_name, 'r') as file:\n",
    "        next(file)  # 跳过第一行\n",
    "        for line in file:\n",
    "            line = line.strip()\n",
    "            if line == \"\":\n",
    "                continue\n",
    "            data = line.split(\",\")\n",
    "            if len(data) < 6:\n",
    "                print(f\"error format {line}\")\n",
    "                continue\n",
    "            _, _, species, gender, age, count = data[0:6]\n",
    "            if age == \"幼体\":\n",
    "                if gender != \"无法区分\":\n",
    "                    print(f\"{species} age is 幼体 need transfer gender {gender} to 无法区分\")\n",
    "                    gender = \"无法区分\"\n",
    "            if \"指名亚种\" in species:\n",
    "                species_column = species.split(\" \")\n",
    "                new_species = species_column[0]\n",
    "                key = new_species + ',' + gender + ',' + age\n",
    "                print(f\"orig species {species},{gender},{age} transfer to {key}\")\n",
    "            else:\n",
    "                key = species + ',' + gender + ',' + age\n",
    "            if key not in species_map_to_count:\n",
    "                species_map_to_count[key] = 0\n",
    "            species_map_to_count[key] += int(count)\n",
    "    split_key_separator = \",\"\n",
    "    species_map_to_count_sort = dict(sorted(species_map_to_count.items(), key=lambda item: \n",
    "                                            (item[0].split(split_key_separator)[0], \n",
    "                                             item[0].split(split_key_separator)[1], \n",
    "                                             item[0].split(split_key_separator)[2])))\n",
    "    total_label_num = 0\n",
    "    with open(\"species_statistic_info_new.csv\", \"w\", newline='') as csvfile:\n",
    "        writer = csv.writer(csvfile)\n",
    "        writer.writerow([\"ID\",\t\"标签\",\t\"物种\",\t\"性别\",\t\"年龄\", '数量'])\n",
    "        id = 1\n",
    "        for key, value in species_map_to_count_sort.items():\n",
    "            species, gender, age = key.split(',')\n",
    "            species_detail = species\n",
    "            if gender != '无法区分':\n",
    "                species_detail += gender\n",
    "            if age != '无法区分':\n",
    "                species_detail += age\n",
    "            writer.writerow([id, species_detail, species, gender, age, value])\n",
    "            id += 1\n",
    "            total_label_num += value\n",
    "    print(f\"total_label_num is {total_label_num}\")"
   ]
  },
  {
   "cell_type": "code",
   "execution_count": 2,
   "metadata": {},
   "outputs": [
    {
     "name": "stdout",
     "output_type": "stream",
     "text": [
      "total image num: 643250\n",
      "年龄标注情况: {'', '成年;亚成体', '亚成体', '成年', '幼体'}\n",
      "性别标注情况: {'', '难以鉴定', '雄，另外一头不确定', '群体', '雌带幼仔', '难以辨认', '幼', '雄', '雌雄都有', '幼仔', '雌', '雄+', '幼体'}\n"
     ]
    }
   ],
   "source": [
    "# 查看照片中所有的年龄和性别的标注情况\n",
    "file_name = \"/home/yuzhong/nndata/export/20240428/物种图片1.json\"\n",
    "age_set, gender_set = get_all_age_gender_set(file_name)\n",
    "print(\"年龄标注情况:\", age_set)\n",
    "print(\"性别标注情况:\", gender_set)"
   ]
  },
  {
   "cell_type": "code",
   "execution_count": 3,
   "metadata": {},
   "outputs": [],
   "source": [
    "# 未在这个map中有的都是无法区分\n",
    "gender_map = {\"雄\": \"雄性\", \"雄+\": \"雄性\", '雌带幼仔': '雌性', \"雌\": \"雌性\", \"雄，另外一头不确定\": \"雄性\", '': '无法区分'}\n",
    "# 未在这个map中有的都是无法区分\n",
    "age_map = {'': '无法区分' ,'成年': '成体', '亚成体': '亚成体', '幼体': \"幼体\", '成年;亚成体': '成体'}"
   ]
  },
  {
   "cell_type": "code",
   "execution_count": 4,
   "metadata": {},
   "outputs": [],
   "source": [
    "def check_label_data(file_name, species_to_another_species, species_map_to_count):\n",
    "    with open(file_name, 'r') as file:\n",
    "        next(file)  # 跳过第一行\n",
    "        for line in file:\n",
    "            line = line.strip()\n",
    "            if line == \"\":\n",
    "                continue\n",
    "            data = line.split(\",\")\n",
    "            if len(data) < 5:\n",
    "                print(f\"error format {line}\")\n",
    "                continue\n",
    "            species_map_to_count[data[2] + ',' + data[3] + ',' + data[4]] = 0\n",
    "            if data[3] == \"无法区分\" and data[4] == \"无法区分\":\n",
    "                if data[1] != data[2]:\n",
    "                    print(f\"ID {data[0]},species {data[1]} to {data[2]}\")\n",
    "                    species_to_another_species[data[1]] = data[2]\n",
    "            if data[3] != \"无法区分\":\n",
    "                if data[3] not in data[1]:\n",
    "                    print(f\"ID {data[0]},species name {data[1]} not macth gender {data[3]}\")\n",
    "            if data[4]!= \"无法区分\":\n",
    "                if data[4] not in data[1]:\n",
    "                    print(f\"ID {data[0]},species name {data[2]} not macth age {data[4]}\")"
   ]
  },
  {
   "cell_type": "code",
   "execution_count": 5,
   "metadata": {},
   "outputs": [
    {
     "name": "stdout",
     "output_type": "stream",
     "text": [
      "ID 253,species name 熊猴成体 not macth gender 雄性\n",
      "ID 387,species name 灰头鸫 not macth age 幼体\n",
      "ID 472,species name 北树鼩亚成体 not macth gender 雄性\n",
      "ID 1635,species 鬣羚 to 中华鬣羚\n",
      "ID 1643,species 斑羚 to 中华斑羚\n",
      "ID D095,species 牦牛 to 家牦牛\n"
     ]
    }
   ],
   "source": [
    "species_to_another_species = {}\n",
    "species_map_to_count = {}\n",
    "# 根据专家填写的分类码表，检查数据集的分类并把一些分类转换成另一个分类\n",
    "check_label_data(\"/home/yuzhong/data2/code/object_detection/process_data/物种分类码表-野生动物.csv\", species_to_another_species, species_map_to_count)\n",
    "check_label_data(\"/home/yuzhong/data2/code/object_detection/process_data/物种分类码表-家养动物.csv\", species_to_another_species, species_map_to_count)"
   ]
  },
  {
   "cell_type": "code",
   "execution_count": 6,
   "metadata": {},
   "outputs": [
    {
     "data": {
      "text/plain": [
       "{'鬣羚': '中华鬣羚', '斑羚': '中华斑羚', '牦牛': '家牦牛'}"
      ]
     },
     "execution_count": 6,
     "metadata": {},
     "output_type": "execute_result"
    }
   ],
   "source": [
    "species_to_another_species"
   ]
  },
  {
   "cell_type": "code",
   "execution_count": 14,
   "metadata": {},
   "outputs": [],
   "source": [
    "def get_species_num(file_name, species_to_another_species, species_map_to_count, gender_map, age_map, not_found_species):\n",
    "    all_species = set()\n",
    "    with open(file_name, 'r') as f:\n",
    "        animal_action = json.load(f)\n",
    "    print(f'total image num: {len(animal_action)}')\n",
    "    for item in animal_action:\n",
    "        age = item['年龄']\n",
    "        gender = item['性别']\n",
    "        species = item['物种名称']\n",
    "        if \"指名亚种\" in species:\n",
    "            species_column = species.split(\" \")\n",
    "            old_species = species\n",
    "            species = species_column[0]\n",
    "            print(f\"orig species {old_species} transfer to {species}\")\n",
    "        if species in species_to_another_species:\n",
    "            species = species_to_another_species[species]\n",
    "        all_species.add(species)\n",
    "        if age not in age_map:\n",
    "            age = \"无法区分\"\n",
    "        else:\n",
    "            age = age_map[age]\n",
    "        if age == \"幼体\":\n",
    "            if gender != \"无法区分\":\n",
    "                # print(f\"{species} age is 幼体 need transfer gender {gender} to 无法区分\")\n",
    "                gender = \"无法区分\"\n",
    "        if gender not in gender_map:\n",
    "            gender = \"无法区分\"\n",
    "        else:\n",
    "            gender = gender_map[gender]\n",
    "        key = species + ',' + gender + ',' + age\n",
    "        # 在标注数据中存在的数据但是没在专家提供的表格中也需要作为训练数据\n",
    "        if key not in species_map_to_count:\n",
    "            not_found_species.add(key)\n",
    "            species_map_to_count[key] = 0\n",
    "            # print(f\"{key} not found in species_map_to_count\")\n",
    "            # continue  # 跳过该数据项\n",
    "        species_map_to_count[key] += 1\n",
    "    return all_species\n",
    "\n",
    "def species_statistic_info_to_csv(species_map_to_count, filter_num=0):\n",
    "    split_key_separator = \",\"\n",
    "    species_map_to_count_sort = dict(sorted(species_map_to_count.items(), key=lambda item: \n",
    "                                            (item[0].split(split_key_separator)[0], \n",
    "                                             item[0].split(split_key_separator)[1], \n",
    "                                             item[0].split(split_key_separator)[2])))\n",
    "    \n",
    "    with open(\"species_statistic_info_240916.csv\", \"w\", newline='') as csvfile, open(\"species_name_info_240916.txt\", \"w\") as txtfile:\n",
    "        writer = csv.writer(csvfile)\n",
    "        writer.writerow([\"ID\",\t\"标签\",\t\"物种\",\t\"性别\",\t\"年龄\", '数量'])\n",
    "        id = 1\n",
    "        for key, value in species_map_to_count_sort.items():\n",
    "            if key == \"\":\n",
    "                continue\n",
    "            if value < filter_num:\n",
    "                continue\n",
    "            species, gender, age = key.split(',')\n",
    "            if species == '' or species == \"不认识\":\n",
    "                continue\n",
    "            species_detail = species\n",
    "            if gender != '无法区分':\n",
    "                species_detail += gender\n",
    "            if age != '无法区分':\n",
    "                species_detail += age\n",
    "            writer.writerow([id, species_detail, species, gender, age, value])\n",
    "            txtfile.write(f\"{id-1}: {species_detail}\\n\")\n",
    "            id += 1"
   ]
  },
  {
   "cell_type": "code",
   "execution_count": 8,
   "metadata": {},
   "outputs": [
    {
     "name": "stdout",
     "output_type": "stream",
     "text": [
      "total image num: 643250\n",
      "orig species 眼纹噪鹛 眼纹噪鹛指名亚种 transfer to 眼纹噪鹛\n",
      "orig species 白鹇 白鹇指名亚种 transfer to 白鹇\n",
      "orig species 白鹇 白鹇指名亚种 transfer to 白鹇\n",
      "orig species 白鹇 白鹇指名亚种 transfer to 白鹇\n",
      "orig species 白鹇 白鹇指名亚种 transfer to 白鹇\n",
      "orig species 白鹇 白鹇指名亚种 transfer to 白鹇\n",
      "orig species 白鹇 白鹇指名亚种 transfer to 白鹇\n",
      "orig species 橙翅噪鹛 橙翅噪鹛指名亚种 transfer to 橙翅噪鹛\n",
      "orig species 橙翅噪鹛 橙翅噪鹛指名亚种 transfer to 橙翅噪鹛\n",
      "orig species 灰头鸫 灰头鸫指名亚种 transfer to 灰头鸫\n",
      "orig species 灰头鸫 灰头鸫指名亚种 transfer to 灰头鸫\n",
      "orig species 灰头鸫 灰头鸫指名亚种 transfer to 灰头鸫\n",
      "orig species 灰头鸫 灰头鸫指名亚种 transfer to 灰头鸫\n",
      "orig species 白鹇 白鹇指名亚种 transfer to 白鹇\n",
      "orig species 黑鹇 黑鹇指名亚种 transfer to 黑鹇\n",
      "orig species 黑鹇 黑鹇指名亚种 transfer to 黑鹇\n",
      "orig species 黑鹇 黑鹇指名亚种 transfer to 黑鹇\n",
      "orig species 白鹇 白鹇指名亚种 transfer to 白鹇\n",
      "orig species 蓝喉拟啄木鸟 蓝喉拟啄木鸟指名亚种 transfer to 蓝喉拟啄木鸟\n",
      "orig species 灰眶雀鹛 灰眶雀鹛指名亚种 transfer to 灰眶雀鹛\n"
     ]
    }
   ],
   "source": [
    "not_found_animal = set()\n",
    "# 查看照片中所有的年龄和性别的标注情况\n",
    "file_name = \"/home/yuzhong/nndata/export/20240428/物种图片1.json\"\n",
    "all_species = get_species_num(file_name, species_to_another_species, species_map_to_count, gender_map, age_map, not_found_animal)"
   ]
  },
  {
   "cell_type": "code",
   "execution_count": 15,
   "metadata": {},
   "outputs": [
    {
     "name": "stdout",
     "output_type": "stream",
     "text": [
      "len(species_map_to_count):2494,len(not_found_animal):732,all species:618\n"
     ]
    }
   ],
   "source": [
    "print(f'len(species_map_to_count):{len(species_map_to_count)},len(not_found_animal):{len(not_found_animal)},all species:{len(all_species)}')"
   ]
  },
  {
   "cell_type": "code",
   "execution_count": 16,
   "metadata": {},
   "outputs": [],
   "source": [
    "species_statistic_info_to_csv(species_map_to_count)"
   ]
  },
  {
   "cell_type": "markdown",
   "metadata": {},
   "source": [
    "## 制作训练数据"
   ]
  },
  {
   "cell_type": "markdown",
   "metadata": {},
   "source": [
    "根据上面的统计信息得到对应的yaml文件，可以参考process_data/species_43.yaml"
   ]
  },
  {
   "cell_type": "code",
   "execution_count": null,
   "metadata": {},
   "outputs": [],
   "source": [
    "import json\n",
    "import hashlib\n",
    "import argparse\n",
    "import shutil\n",
    "import os\n",
    "from PIL import Image\n",
    "from pathlib import Path\n",
    "from tqdm import tqdm\n",
    "\n",
    "copy_file_failed_fd = open(\"copy_to_local_image_failed.txt\", \"w\")\n",
    "\n",
    "\n",
    "def get_file_path(content, root_dir):\n",
    "    # 计算图片id的md5\n",
    "    pic_id = content[\"图片id\"]\n",
    "    md5hash = hashlib.md5(pic_id.encode('utf-8'))\n",
    "    md5 = md5hash.hexdigest()\n",
    "\n",
    "    # root_dir = \"/home/yuzhong/nndata/fs\"\n",
    "\n",
    "    first = md5[0]\n",
    "    second = md5[1:3]\n",
    "    third = md5[3:6]\n",
    "    path = \"/\".join([root_dir, first, second, third, pic_id])\n",
    "    # print(path)\n",
    "    my_file = Path(path)\n",
    "    if my_file.is_file():\n",
    "        content[\"有效路径\"] = path\n",
    "        return path\n",
    "    else:\n",
    "        new_path = \"/\".join([root_dir, first, second, third, md5])\n",
    "        # print(new_path)\n",
    "        my_file = Path(new_path)\n",
    "        if my_file.is_file():\n",
    "            content[\"有效路径\"] = new_path\n",
    "            return new_path\n",
    "        else:\n",
    "            content[\"无效路径\"] = path + \"\\t\" + new_path\n",
    "            return None\n",
    "\n",
    "\n",
    "def copy_image_to_local(content, root_dir):\n",
    "    try:\n",
    "        Image.open(content[\"有效路径\"])\n",
    "        content[\"本地路径\"] = root_dir + \"/\" + content[\"有效路径\"].split(\"/\")[-1]\n",
    "        shutil.copyfile(content[\"有效路径\"], content[\"本地路径\"])\n",
    "        return True\n",
    "    except Exception:\n",
    "        json.dump(content, copy_file_failed_fd, ensure_ascii=False)\n",
    "        copy_file_failed_fd.write(\"\\n\")\n",
    "        return False\n",
    "\n",
    "\n",
    "def write_json_file(file_name, data):\n",
    "    with open(file_name, \"w\", encoding=\"utf-8\") as json_file:\n",
    "        for item in data:\n",
    "            json.dump(item, json_file, ensure_ascii=False)\n",
    "            json_file.write('\\n')\n",
    "\n",
    "\n",
    "def json_contents_to_path(actions, root_dir, dir_name, fs_dir):\n",
    "    invalid_json = []\n",
    "    json_file = root_dir + dir_name + \".json\"\n",
    "    json_file_fd = open(json_file, 'a')\n",
    "    path_not_exist = 0\n",
    "    image_corrupted = 0\n",
    "    write_images = 0\n",
    "    os.makedirs(root_dir + \"/\" + dir_name, exist_ok=True)\n",
    "    for content in tqdm(actions):\n",
    "        path = get_file_path(content, fs_dir)\n",
    "        if path:\n",
    "            if copy_image_to_local(content, root_dir=root_dir + \"/\" + dir_name):\n",
    "                json.dump(content, json_file_fd, ensure_ascii=False)\n",
    "                json_file_fd.write(\"\\n\")\n",
    "                write_images += 1\n",
    "            else:\n",
    "                invalid_json.append(content)\n",
    "                image_corrupted += 1\n",
    "        else:\n",
    "            invalid_json.append(content)\n",
    "            path_not_exist += 1\n",
    "\n",
    "    json_file_fd.close()\n",
    "\n",
    "    print(f\"{dir_name},成功写入的照片数量:{write_images},路径非法总数:{path_not_exist},照片损坏总数:{image_corrupted}.\")\n",
    "\n",
    "    with open(root_dir + dir_name + \"_failed.json\", \"w\") as json_file:\n",
    "        json.dump(invalid_json, json_file, ensure_ascii=False)\n",
    "\n",
    "def get_image_to_local_dir(image_json_actions, fs_dir, root_dir = \"/home/yuzhong/data3/image_data/\"):\n",
    "    os.makedirs(root_dir, exist_ok=True)\n",
    "    json_contents_to_path(image_json_actions, root_dir, \"human_images\", fs_dir)"
   ]
  }
 ],
 "metadata": {
  "kernelspec": {
   "display_name": "torch2",
   "language": "python",
   "name": "python3"
  },
  "language_info": {
   "codemirror_mode": {
    "name": "ipython",
    "version": 3
   },
   "file_extension": ".py",
   "mimetype": "text/x-python",
   "name": "python",
   "nbconvert_exporter": "python",
   "pygments_lexer": "ipython3",
   "version": "3.12.2"
  }
 },
 "nbformat": 4,
 "nbformat_minor": 2
}
