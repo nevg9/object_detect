{
 "cells": [
  {
   "cell_type": "code",
   "execution_count": 1,
   "metadata": {},
   "outputs": [],
   "source": [
    "import json"
   ]
  },
  {
   "cell_type": "code",
   "execution_count": 7,
   "metadata": {},
   "outputs": [],
   "source": [
    "def get_all_age_gender_set(file_name):\n",
    "    age_set = set()\n",
    "    gender_set = set()\n",
    "    with open(file_name, 'r') as f:\n",
    "        animal_action = json.load(f)\n",
    "    for item in animal_action:\n",
    "        age_set.add(item['年龄'])\n",
    "        gender_set.add(item['性别'])\n",
    "    return age_set, gender_set"
   ]
  },
  {
   "cell_type": "code",
   "execution_count": 8,
   "metadata": {},
   "outputs": [],
   "source": [
    "file_name = \"/home/yuzhong/nndata/export/20240428/物种图片1.json\"\n",
    "age_set, gender_set = get_all_age_gender_set(file_name)"
   ]
  },
  {
   "cell_type": "code",
   "execution_count": 9,
   "metadata": {},
   "outputs": [
    {
     "name": "stdout",
     "output_type": "stream",
     "text": [
      "{'', '亚成体', '成年;亚成体', '幼体', '成年'}\n"
     ]
    }
   ],
   "source": [
    "print(age_set)"
   ]
  },
  {
   "cell_type": "code",
   "execution_count": 10,
   "metadata": {},
   "outputs": [
    {
     "name": "stdout",
     "output_type": "stream",
     "text": [
      "{'', '雌雄都有', '幼仔', '幼', '雄', '雄+', '幼体', '雌带幼仔', '难以鉴定', '难以辨认', '雌', '群体', '雄，另外一头不确定'}\n"
     ]
    }
   ],
   "source": [
    "print(gender_set)"
   ]
  },
  {
   "cell_type": "code",
   "execution_count": 11,
   "metadata": {},
   "outputs": [],
   "source": [
    "def get_species_to_another_species(file_name):\n",
    "    species_to_another_species = {}\n",
    "    for line in open(file_name):\n",
    "        line = line.strip()\n",
    "        if line == \"\":\n",
    "            continue\n",
    "        data = line.split(\",\")\n",
    "        if len(data) < 5:\n",
    "            print(f\"error format {line}\")\n",
    "            continue\n",
    "        if data[3] == \"无法区分\" and data[4] == \"无法区分\":\n",
    "            if data[1] != data[2]:\n",
    "                species_to_another_species[data[1]] = data[2]\n",
    "    return species_to_another_species"
   ]
  },
  {
   "cell_type": "code",
   "execution_count": 12,
   "metadata": {},
   "outputs": [],
   "source": [
    "species_to_another_species = get_species_to_another_species(\"/home/yuzhong/data2/code/object_detection/process_data/物种分类码表-野生动物.csv\")"
   ]
  },
  {
   "cell_type": "code",
   "execution_count": 13,
   "metadata": {},
   "outputs": [
    {
     "name": "stdout",
     "output_type": "stream",
     "text": [
      "勺鸡成体 勺鸡\n",
      "白马鸡成体 白马鸡\n",
      "北树鼩 椰子狸\n",
      "椰子狸 海南山鹧鸪\n",
      "黑鹇 黄腹鼬\n",
      "鬣羚 中华鬣羚\n",
      "斑羚 中华斑羚\n",
      "蓝马鸡成体 蓝马鸡\n",
      "褐马鸡成体 褐马鸡\n"
     ]
    }
   ],
   "source": [
    "for k, v in species_to_another_species.items():\n",
    "    print(k, v)"
   ]
  },
  {
   "cell_type": "code",
   "execution_count": null,
   "metadata": {},
   "outputs": [],
   "source": []
  }
 ],
 "metadata": {
  "kernelspec": {
   "display_name": "torch2",
   "language": "python",
   "name": "python3"
  },
  "language_info": {
   "codemirror_mode": {
    "name": "ipython",
    "version": 3
   },
   "file_extension": ".py",
   "mimetype": "text/x-python",
   "name": "python",
   "nbconvert_exporter": "python",
   "pygments_lexer": "ipython3",
   "version": "3.12.2"
  }
 },
 "nbformat": 4,
 "nbformat_minor": 2
}
